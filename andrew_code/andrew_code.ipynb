{
 "cells": [
  {
   "cell_type": "code",
   "execution_count": 14,
   "metadata": {},
   "outputs": [],
   "source": [
    "# Dependencies and Setup\n",
    "\n",
    "import numpy as np \n",
    "import pandas as pd \n",
    "import matplotlib.pyplot as plt"
   ]
  },
  {
   "cell_type": "code",
   "execution_count": 25,
   "metadata": {},
   "outputs": [
    {
     "data": {
      "text/plain": [
       "<bound method NDFrame.head of        Year                   Hobbyist  ConvertedComp  \\\n",
       "0      2017                  Yes, both    43750.00000   \n",
       "1      2017  Yes, I program as a hobby    51282.05128   \n",
       "2      2017                         No    25000.00000   \n",
       "3      2017  Yes, I program as a hobby   100000.00000   \n",
       "4      2017                  Yes, both    27000.00000   \n",
       "...     ...                        ...            ...   \n",
       "33596  2020                        Yes   225000.00000   \n",
       "33597  2020                        Yes      369.00000   \n",
       "33598  2020                         No    38484.00000   \n",
       "33599  2020                        Yes   140000.00000   \n",
       "33600  2020                        Yes   129718.00000   \n",
       "\n",
       "                                    Country            EdLevel  \\\n",
       "0                            United Kingdom  Bachelor's degree   \n",
       "1                                   Denmark       some college   \n",
       "2                                    Israel       some college   \n",
       "3                             United States       some college   \n",
       "4                                   Ukraine    Master's degree   \n",
       "...                                     ...                ...   \n",
       "33596                         United States       some college   \n",
       "33597  Venezuela, Bolivarian Republic of...       some college   \n",
       "33598                               Hungary    Master's degree   \n",
       "33599                         United States    Doctoral degree   \n",
       "33600                               Germany    Master's degree   \n",
       "\n",
       "                                              Employment  JobSat  \\\n",
       "0                                     Employed full-time     4.0   \n",
       "1                                     Employed part-time    10.0   \n",
       "2                                     Employed full-time     6.0   \n",
       "3                                     Employed full-time     5.0   \n",
       "4                                     Employed full-time     7.0   \n",
       "...                                                  ...     ...   \n",
       "33596                                 Employed full-time     8.0   \n",
       "33597                                 Employed full-time     2.0   \n",
       "33598  Independent contractor, freelancer, or self-em...     8.0   \n",
       "33599                                 Employed full-time     8.0   \n",
       "33600  Independent contractor, freelancer, or self-em...     8.0   \n",
       "\n",
       "                                                 OrgSize  \\\n",
       "0                                       2 to 9 employees   \n",
       "1                                   100 to 499 employees   \n",
       "2                               5,000 to 9,999 employees   \n",
       "3                                     20 to 99 employees   \n",
       "4                                   100 to 499 employees   \n",
       "...                                                  ...   \n",
       "33596                           1,000 to 4,999 employees   \n",
       "33597                           1,000 to 4,999 employees   \n",
       "33598  Just me - I am a freelancer, sole proprietor, ...   \n",
       "33599                           10,000 or more employees   \n",
       "33600  Just me - I am a freelancer, sole proprietor, ...   \n",
       "\n",
       "                       UndergradMajor  YearsCodePro  \\\n",
       "0                    Computer science           2.0   \n",
       "1                    Computer science           3.0   \n",
       "2                    Computer science           4.0   \n",
       "3                    Computer science          15.0   \n",
       "4                    Computer science           5.0   \n",
       "...                               ...           ...   \n",
       "33596       Mathematics or statistics          15.0   \n",
       "33597                Computer science          27.0   \n",
       "33598                      Humanities          12.0   \n",
       "33599  Another engineering discipline          12.0   \n",
       "33600  Another engineering discipline           9.0   \n",
       "\n",
       "       Data scientist or machine learning specialist  Database administrator  \\\n",
       "0                                                  1                       1   \n",
       "1                                                  1                       0   \n",
       "2                                                  1                       0   \n",
       "3                                                  0                       1   \n",
       "4                                                  0                       1   \n",
       "...                                              ...                     ...   \n",
       "33596                                              0                       0   \n",
       "33597                                              0                       1   \n",
       "33598                                              0                       0   \n",
       "33599                                              1                       0   \n",
       "33600                                              0                       1   \n",
       "\n",
       "       Data or business analyst  Engineer, data  \n",
       "0                           NaN             NaN  \n",
       "1                           NaN             NaN  \n",
       "2                           NaN             NaN  \n",
       "3                           NaN             NaN  \n",
       "4                           NaN             NaN  \n",
       "...                         ...             ...  \n",
       "33596                       0.0             1.0  \n",
       "33597                       0.0             1.0  \n",
       "33598                       1.0             0.0  \n",
       "33599                       1.0             1.0  \n",
       "33600                       0.0             0.0  \n",
       "\n",
       "[33601 rows x 14 columns]>"
      ]
     },
     "execution_count": 25,
     "metadata": {},
     "output_type": "execute_result"
    }
   ],
   "source": [
    "#pass through data files\n",
    "empl_data_path =  \"data/employment_data_cleaned.csv\"\n",
    "\n",
    "# Read the employment data \n",
    "empl_data = pd.read_csv(empl_data_path)\n",
    "\n",
    "#display the data table for preview\n",
    "empl_data.head"
   ]
  },
  {
   "cell_type": "code",
   "execution_count": null,
   "metadata": {},
   "outputs": [],
   "source": []
  },
  {
   "cell_type": "code",
   "execution_count": 36,
   "metadata": {},
   "outputs": [
    {
     "name": "stdout",
     "output_type": "stream",
     "text": [
      "<class 'pandas.core.frame.DataFrame'>\n",
      "Int64Index: 8762 entries, 0 to 33599\n",
      "Data columns (total 11 columns):\n",
      " #   Column                  Non-Null Count  Dtype  \n",
      "---  ------                  --------------  -----  \n",
      " 0   Year                    8762 non-null   int64  \n",
      " 1   Hobbyist                8762 non-null   object \n",
      " 2   Income                  8762 non-null   float64\n",
      " 3   Country                 8762 non-null   object \n",
      " 4   EdLevel                 8711 non-null   object \n",
      " 5   Employment              8753 non-null   object \n",
      " 6   JobSat                  8742 non-null   float64\n",
      " 7   OrgSize                 8393 non-null   object \n",
      " 8   UndergradMajor          8273 non-null   object \n",
      " 9   YearsCodePro            8748 non-null   float64\n",
      " 10  Database administrator  8762 non-null   int64  \n",
      "dtypes: float64(3), int64(2), object(6)\n",
      "memory usage: 821.4+ KB\n"
     ]
    }
   ],
   "source": [
    "df = pd.read_csv('data/employment_data_cleaned.csv')\n",
    "df = df[df['Data scientist or machine learning specialist']==1]\n",
    "valc = df['Country'].value_counts()\n",
    "country_list = valc[valc >= 50].index.tolist()\n",
    "df = df[df['Country'].isin(country_list)]\n",
    "\n",
    "rename_income = df.rename(columns = {'ConvertedComp':'Income'})\n",
    "\n",
    "# Exclude 5% of smallest and 5% of highest salaries\n",
    "P = np.percentile(df['Income'], [5, 95])\n",
    "df = df[(df['Income'] > P[0]) & (df['Income'] < P[1])]\n",
    "\n",
    "# Convert compensations into kUSD/year\n",
    "df['Income'] = round(df['Income']*1e-3,1)\n",
    "\n",
    "# Exclude columns with non-unique values\n",
    "df = df[df.columns[df.nunique() > 1]]\n",
    "df.info()"
   ]
  },
  {
   "cell_type": "code",
   "execution_count": 27,
   "metadata": {},
   "outputs": [],
   "source": [
    "df = df.dropna()"
   ]
  },
  {
   "cell_type": "code",
   "execution_count": 28,
   "metadata": {},
   "outputs": [
    {
     "data": {
      "text/plain": [
       "Year                        False\n",
       "Hobbyist                    False\n",
       "ConvertedComp               False\n",
       "Country                     False\n",
       "EdLevel                     False\n",
       "Employment                  False\n",
       "JobSat                      False\n",
       "OrgSize                     False\n",
       "UndergradMajor              False\n",
       "YearsCodePro                False\n",
       "Database administrator      False\n",
       "Data or business analyst    False\n",
       "Engineer, data              False\n",
       "dtype: bool"
      ]
     },
     "execution_count": 28,
     "metadata": {},
     "output_type": "execute_result"
    }
   ],
   "source": [
    "df.isnull().any()"
   ]
  },
  {
   "cell_type": "code",
   "execution_count": 29,
   "metadata": {},
   "outputs": [
    {
     "name": "stdout",
     "output_type": "stream",
     "text": [
      "<class 'pandas.core.frame.DataFrame'>\n",
      "Int64Index: 4614 entries, 13361 to 33599\n",
      "Data columns (total 13 columns):\n",
      " #   Column                    Non-Null Count  Dtype  \n",
      "---  ------                    --------------  -----  \n",
      " 0   Year                      4614 non-null   int64  \n",
      " 1   Hobbyist                  4614 non-null   object \n",
      " 2   ConvertedComp             4614 non-null   float64\n",
      " 3   Country                   4614 non-null   object \n",
      " 4   EdLevel                   4614 non-null   object \n",
      " 5   Employment                4614 non-null   object \n",
      " 6   JobSat                    4614 non-null   float64\n",
      " 7   OrgSize                   4614 non-null   object \n",
      " 8   UndergradMajor            4614 non-null   object \n",
      " 9   YearsCodePro              4614 non-null   float64\n",
      " 10  Database administrator    4614 non-null   int64  \n",
      " 11  Data or business analyst  4614 non-null   float64\n",
      " 12  Engineer, data            4614 non-null   float64\n",
      "dtypes: float64(5), int64(2), object(6)\n",
      "memory usage: 504.7+ KB\n"
     ]
    }
   ],
   "source": [
    "df.info()"
   ]
  },
  {
   "cell_type": "code",
   "execution_count": 46,
   "metadata": {},
   "outputs": [
    {
     "data": {
      "text/plain": [
       "Country\n",
       "United States     100.284028\n",
       "Israel             95.771560\n",
       "Switzerland        92.080682\n",
       "Denmark            81.675000\n",
       "Norway             78.269474\n",
       "Australia          76.236449\n",
       "Canada             69.377635\n",
       "United Kingdom     67.573314\n",
       "Ireland            67.270690\n",
       "New Zealand        63.096491\n",
       "Name: Income, dtype: float64"
      ]
     },
     "execution_count": 46,
     "metadata": {},
     "output_type": "execute_result"
    }
   ],
   "source": [
    "country_df = df['Country'].value_counts()\n",
    "country_df\n",
    "\n",
    "mean_income_country = df.groupby(['Country'])['Income'].mean().sort_values(ascending = False).head(10)\n",
    "mean_income_country\n",
    "\n"
   ]
  },
  {
   "cell_type": "code",
   "execution_count": 44,
   "metadata": {},
   "outputs": [
    {
     "data": {
      "text/plain": [
       "Country\n",
       "Israel            105.30\n",
       "United States     100.00\n",
       "Switzerland        91.20\n",
       "Denmark            79.35\n",
       "Norway             77.80\n",
       "Australia          72.50\n",
       "Canada             64.90\n",
       "Ireland            63.00\n",
       "Germany            61.10\n",
       "United Kingdom     60.00\n",
       "Name: Income, dtype: float64"
      ]
     },
     "execution_count": 44,
     "metadata": {},
     "output_type": "execute_result"
    }
   ],
   "source": [
    "\n",
    "med_income_country = df.groupby(['Country'])['Income'].median().sort_values(ascending = False).head(10)\n",
    "med_income_country"
   ]
  },
  {
   "cell_type": "code",
   "execution_count": null,
   "metadata": {},
   "outputs": [],
   "source": [
    "'israel, united states, Denmark, Norway, Australia, Canada, Ireland, Germany, United Kingdom'"
   ]
  },
  {
   "cell_type": "code",
   "execution_count": 67,
   "metadata": {},
   "outputs": [
    {
     "name": "stdout",
     "output_type": "stream",
     "text": [
      "['United States', 'Germany', 'India', 'United Kingdom', 'Canada', 'France', 'Brazil', 'Netherlands', 'Spain', 'Australia', 'Russian Federation', 'Switzerland', 'Poland', 'Italy', 'Sweden', 'Israel', 'Turkey', 'Belgium', 'Denmark', 'Pakistan', 'Norway', 'Austria', 'Mexico', 'Czech Republic', 'Finland', 'South Africa', 'Iran', 'Greece', 'Japan', 'Portugal', 'Ireland', 'Ukraine', 'Argentina', 'Romania', 'New Zealand', 'Bulgaria']\n"
     ]
    }
   ],
   "source": [
    "print(country_list)"
   ]
  },
  {
   "cell_type": "code",
   "execution_count": null,
   "metadata": {},
   "outputs": [],
   "source": []
  },
  {
   "cell_type": "code",
   "execution_count": 76,
   "metadata": {},
   "outputs": [
    {
     "data": {
      "image/png": "[encoded data removed]",
      "text/plain": [
       "<Figure size 432x288 with 1 Axes>"
      ]
     },
     "metadata": {
      "needs_background": "light"
     },
     "output_type": "display_data"
    }
   ],
   "source": [
    "# data_df[“Job Title”].value_counts().sort_values(ascending=False).head(20).plot.bar(color=color)\n",
    "\n",
    "df.groupby(['Country'])['Income'].median().sort_values(ascending = False).head(10).plot.bar()\n",
    "\n",
    "plt.show()\n",
    "\n"
   ]
  },
  {
   "cell_type": "code",
   "execution_count": 77,
   "metadata": {},
   "outputs": [
    {
     "data": {
      "image/png": "[encoded data removed]",
      "text/plain": [
       "<Figure size 432x288 with 1 Axes>"
      ]
     },
     "metadata": {
      "needs_background": "light"
     },
     "output_type": "display_data"
    }
   ],
   "source": [
    "\n",
    "df.groupby(['Country'])['Income'].mean().sort_values(ascending = False).head(10).plot.bar()\n",
    "\n",
    "plt.show()"
   ]
  },
  {
   "cell_type": "code",
   "execution_count": 71,
   "metadata": {},
   "outputs": [
    {
     "ename": "SyntaxError",
     "evalue": "invalid syntax (3551926331.py, line 5)",
     "output_type": "error",
     "traceback": [
      "\u001b[1;36m  Input \u001b[1;32mIn [71]\u001b[1;36m\u001b[0m\n\u001b[1;33m    country_name = for country in countries [ mean_income_country ]\u001b[0m\n\u001b[1;37m                   ^\u001b[0m\n\u001b[1;31mSyntaxError\u001b[0m\u001b[1;31m:\u001b[0m invalid syntax\n"
     ]
    }
   ],
   "source": [
    "# # Generate a line plot of tumor volume vs. time point for a mouse treated with Capomulin\n",
    "# # ['Israel', 'United States', 'Denmark', 'Norway', 'Australia', 'Canada', 'Ireland', 'Germany', 'United Kingdom']\n",
    "\n",
    "\n",
    "# country_name = for country in countries [ mean_income_country ]\n",
    "# fig1, ax1 = plt.subplots(figsize=(15, 10))\n",
    "# plt.title('Capomulin treatmeant of mouse b742',fontsize =25)\n",
    "# plt.plot(mean_income_country, med_income_country, linewidth=2, markersize=15,marker=\"o\",color=\"blue\", label=\"Fahreneit\")\n",
    "# plt.xlabel('country_df',fontsize =14)\n",
    "# plt.ylabel('Tumor Volume (mm3)',fontsize =14)\n",
    "# plt.xticks('')\n",
    "\n",
    "\n",
    "# plt.savefig(\"mean.jpg\")\n",
    "plt.show()"
   ]
  },
  {
   "cell_type": "code",
   "execution_count": 31,
   "metadata": {},
   "outputs": [
    {
     "data": {
      "text/plain": [
       "Yes    3818\n",
       "No      796\n",
       "Name: Hobbyist, dtype: int64"
      ]
     },
     "execution_count": 31,
     "metadata": {},
     "output_type": "execute_result"
    }
   ],
   "source": [
    "# Preprocess Hobbyist column\n",
    "hb_dict = {c:c.split(',')[0] for c in df['Hobbyist'].unique()}\n",
    "df['Hobbyist'] = df['Hobbyist'].replace(hb_dict)\n",
    "df['Hobbyist'].value_counts()"
   ]
  },
  {
   "cell_type": "code",
   "execution_count": 32,
   "metadata": {},
   "outputs": [
    {
     "data": {
      "text/plain": [
       "MSc      2036\n",
       "BSc      1532\n",
       "PhD       700\n",
       "Other     346\n",
       "Name: EdLevel, dtype: int64"
      ]
     },
     "execution_count": 32,
     "metadata": {},
     "output_type": "execute_result"
    }
   ],
   "source": [
    "# Preprocess EdLevel column and alter education level into acronym \n",
    "edlevel_dict = {\"Bachelor's degree\": \"BSc\", \"Master's degree\": \"MSc\", \"Doctoral degree\": \"PhD\"}\n",
    "ed_vc = df['EdLevel'].value_counts()\n",
    "for idx, val in zip(ed_vc.index, ed_vc.values):\n",
    "    if idx not in edlevel_dict:\n",
    "        edlevel_dict[idx] = \"Other\"\n",
    "df['EdLevel'] = df['EdLevel'].replace(edlevel_dict)\n",
    "df['EdLevel'].value_counts()"
   ]
  },
  {
   "cell_type": "code",
   "execution_count": 33,
   "metadata": {},
   "outputs": [
    {
     "data": {
      "text/plain": [
       "Fulltime    4064\n",
       "Other        550\n",
       "Name: Employment, dtype: int64"
      ]
     },
     "execution_count": 33,
     "metadata": {},
     "output_type": "execute_result"
    }
   ],
   "source": [
    "# Preprocess Employment column\n",
    "df['Employment'] = df['Employment'].replace({'Employed full-time': 'Fulltime', \n",
    "                                             'Independent contractor, freelancer, or self-employed': 'Other',\n",
    "                                            'Employed part-time': 'Other'})\n",
    "df['Employment'].value_counts()"
   ]
  },
  {
   "cell_type": "code",
   "execution_count": null,
   "metadata": {},
   "outputs": [],
   "source": []
  },
  {
   "cell_type": "code",
   "execution_count": 24,
   "metadata": {},
   "outputs": [
    {
     "ename": "SyntaxError",
     "evalue": "invalid syntax (1402931162.py, line 2)",
     "output_type": "error",
     "traceback": [
      "\u001b[1;36m  Input \u001b[1;32mIn [24]\u001b[1;36m\u001b[0m\n\u001b[1;33m    9th activity in mathplot lib\u001b[0m\n\u001b[1;37m     ^\u001b[0m\n\u001b[1;31mSyntaxError\u001b[0m\u001b[1;31m:\u001b[0m invalid syntax\n"
     ]
    }
   ],
   "source": [
    "#call out to dataframe, hobbyist yes datafram .loc \n",
    "9th activity in mathplot lib\n"
   ]
  }
 ],
 "metadata": {
  "kernelspec": {
   "display_name": "Python 3.9.12 ('base')",
   "language": "python",
   "name": "python3"
  },
  "language_info": {
   "codemirror_mode": {
    "name": "ipython",
    "version": 3
   },
   "file_extension": ".py",
   "mimetype": "text/x-python",
   "name": "python",
   "nbconvert_exporter": "python",
   "pygments_lexer": "ipython3",
   "version": "3.9.12"
  },
  "orig_nbformat": 4,
  "vscode": {
   "interpreter": {
    "hash": "71691433bb2275082d6bc4c5fc28b98ca731784829837b1aeaf46486f882aec3"
   }
  }
 },
 "nbformat": 4,
 "nbformat_minor": 2
}

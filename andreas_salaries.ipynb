{
 "cells": [
  {
   "cell_type": "code",
   "execution_count": 7,
   "metadata": {},
   "outputs": [],
   "source": [
    "import pandas as pd\n",
    "import numpy as np\n",
    "import matplotlib.pyplot as plt\n",
    "import csv as csv\n",
    "\n"
   ]
  },
  {
   "cell_type": "code",
   "execution_count": 8,
   "metadata": {},
   "outputs": [],
   "source": [
    "salaries= \"..\\project_1\\ds_salaries.csv\"\n",
    "file_one_df = pd.read_csv(salaries) \n"
   ]
  },
  {
   "cell_type": "code",
   "execution_count": 9,
   "metadata": {},
   "outputs": [],
   "source": [
    "#amount of entry levels\n",
    "entry_df=file_one_df.loc[file_one_df['experience_level']=='EN']\n",
    "#senior lvl\n",
    "Senior_df=file_one_df.loc[file_one_df['experience_level']=='SE']\n",
    "#mid leveles\n",
    "mid_df=file_one_df.loc[file_one_df['experience_level']=='MI']\n",
    "#expert level\n",
    "expert_df=file_one_df.loc[file_one_df['experience_level']=='EX']\n",
    "\n",
    "\n",
    "\n",
    "\n",
    "    "
   ]
  },
  {
   "cell_type": "code",
   "execution_count": 10,
   "metadata": {},
   "outputs": [],
   "source": [
    "\n",
    "label = [\"Full time\",\"Part time\",\"Contract\",\"Freelance\"]\n",
    "count= [588,10,5,4]\n",
    "colors= [\"green\",\"yellow\",\"orange\",\"red\"]\n",
    "explode_ft=(0.2,0,0,0)\n",
    "\n"
   ]
  },
  {
   "cell_type": "code",
   "execution_count": 11,
   "metadata": {},
   "outputs": [
    {
     "data": {
      "text/plain": [
       "(-1.1061474492783092,\n",
       " 1.3128132619586832,\n",
       " -1.1457073311995263,\n",
       " 1.07175686780184)"
      ]
     },
     "execution_count": 11,
     "metadata": {},
     "output_type": "execute_result"
    },
    {
     "data": {
      "image/png": "[encoded data removed]",
      "text/plain": [
       "<Figure size 432x288 with 1 Axes>"
      ]
     },
     "metadata": {},
     "output_type": "display_data"
    }
   ],
   "source": [
    "plt.pie(count,explode=explode_ft,labels=label,colors=colors,autopct=\"%1.1f%%\", shadow=False, startangle=175)\n",
    "plt.axis(\"equal\")"
   ]
  },
  {
   "cell_type": "code",
   "execution_count": 12,
   "metadata": {},
   "outputs": [
    {
     "data": {
      "text/html": [
       "<div>\n",
       "<style scoped>\n",
       "    .dataframe tbody tr th:only-of-type {\n",
       "        vertical-align: middle;\n",
       "    }\n",
       "\n",
       "    .dataframe tbody tr th {\n",
       "        vertical-align: top;\n",
       "    }\n",
       "\n",
       "    .dataframe thead th {\n",
       "        text-align: right;\n",
       "    }\n",
       "</style>\n",
       "<table border=\"1\" class=\"dataframe\">\n",
       "  <thead>\n",
       "    <tr style=\"text-align: right;\">\n",
       "      <th></th>\n",
       "      <th>Unnamed: 0</th>\n",
       "      <th>work_year</th>\n",
       "      <th>experience_level</th>\n",
       "      <th>employment_type</th>\n",
       "      <th>job_title</th>\n",
       "      <th>salary</th>\n",
       "      <th>salary_currency</th>\n",
       "      <th>salary_in_usd</th>\n",
       "      <th>employee_residence</th>\n",
       "      <th>remote_ratio</th>\n",
       "      <th>company_location</th>\n",
       "      <th>company_size</th>\n",
       "    </tr>\n",
       "  </thead>\n",
       "  <tbody>\n",
       "    <tr>\n",
       "      <th>5</th>\n",
       "      <td>5</td>\n",
       "      <td>2020</td>\n",
       "      <td>EN</td>\n",
       "      <td>FT</td>\n",
       "      <td>Data Analyst</td>\n",
       "      <td>72000</td>\n",
       "      <td>USD</td>\n",
       "      <td>72000</td>\n",
       "      <td>US</td>\n",
       "      <td>100</td>\n",
       "      <td>US</td>\n",
       "      <td>L</td>\n",
       "    </tr>\n",
       "    <tr>\n",
       "      <th>10</th>\n",
       "      <td>10</td>\n",
       "      <td>2020</td>\n",
       "      <td>EN</td>\n",
       "      <td>FT</td>\n",
       "      <td>Data Scientist</td>\n",
       "      <td>45000</td>\n",
       "      <td>EUR</td>\n",
       "      <td>51321</td>\n",
       "      <td>FR</td>\n",
       "      <td>0</td>\n",
       "      <td>FR</td>\n",
       "      <td>S</td>\n",
       "    </tr>\n",
       "    <tr>\n",
       "      <th>12</th>\n",
       "      <td>12</td>\n",
       "      <td>2020</td>\n",
       "      <td>EN</td>\n",
       "      <td>FT</td>\n",
       "      <td>Data Scientist</td>\n",
       "      <td>35000</td>\n",
       "      <td>EUR</td>\n",
       "      <td>39916</td>\n",
       "      <td>FR</td>\n",
       "      <td>0</td>\n",
       "      <td>FR</td>\n",
       "      <td>M</td>\n",
       "    </tr>\n",
       "    <tr>\n",
       "      <th>16</th>\n",
       "      <td>16</td>\n",
       "      <td>2020</td>\n",
       "      <td>EN</td>\n",
       "      <td>FT</td>\n",
       "      <td>Data Engineer</td>\n",
       "      <td>4450000</td>\n",
       "      <td>JPY</td>\n",
       "      <td>41689</td>\n",
       "      <td>JP</td>\n",
       "      <td>100</td>\n",
       "      <td>JP</td>\n",
       "      <td>S</td>\n",
       "    </tr>\n",
       "    <tr>\n",
       "      <th>18</th>\n",
       "      <td>18</td>\n",
       "      <td>2020</td>\n",
       "      <td>EN</td>\n",
       "      <td>FT</td>\n",
       "      <td>Data Science Consultant</td>\n",
       "      <td>423000</td>\n",
       "      <td>INR</td>\n",
       "      <td>5707</td>\n",
       "      <td>IN</td>\n",
       "      <td>50</td>\n",
       "      <td>IN</td>\n",
       "      <td>M</td>\n",
       "    </tr>\n",
       "    <tr>\n",
       "      <th>...</th>\n",
       "      <td>...</td>\n",
       "      <td>...</td>\n",
       "      <td>...</td>\n",
       "      <td>...</td>\n",
       "      <td>...</td>\n",
       "      <td>...</td>\n",
       "      <td>...</td>\n",
       "      <td>...</td>\n",
       "      <td>...</td>\n",
       "      <td>...</td>\n",
       "      <td>...</td>\n",
       "      <td>...</td>\n",
       "    </tr>\n",
       "    <tr>\n",
       "      <th>512</th>\n",
       "      <td>512</td>\n",
       "      <td>2022</td>\n",
       "      <td>EN</td>\n",
       "      <td>FT</td>\n",
       "      <td>Data Engineer</td>\n",
       "      <td>65000</td>\n",
       "      <td>USD</td>\n",
       "      <td>65000</td>\n",
       "      <td>US</td>\n",
       "      <td>100</td>\n",
       "      <td>US</td>\n",
       "      <td>S</td>\n",
       "    </tr>\n",
       "    <tr>\n",
       "      <th>514</th>\n",
       "      <td>514</td>\n",
       "      <td>2022</td>\n",
       "      <td>EN</td>\n",
       "      <td>FT</td>\n",
       "      <td>Data Analytics Engineer</td>\n",
       "      <td>20000</td>\n",
       "      <td>USD</td>\n",
       "      <td>20000</td>\n",
       "      <td>PK</td>\n",
       "      <td>0</td>\n",
       "      <td>PK</td>\n",
       "      <td>M</td>\n",
       "    </tr>\n",
       "    <tr>\n",
       "      <th>521</th>\n",
       "      <td>521</td>\n",
       "      <td>2022</td>\n",
       "      <td>EN</td>\n",
       "      <td>FT</td>\n",
       "      <td>Computer Vision Engineer</td>\n",
       "      <td>10000</td>\n",
       "      <td>USD</td>\n",
       "      <td>10000</td>\n",
       "      <td>PT</td>\n",
       "      <td>100</td>\n",
       "      <td>LU</td>\n",
       "      <td>M</td>\n",
       "    </tr>\n",
       "    <tr>\n",
       "      <th>600</th>\n",
       "      <td>600</td>\n",
       "      <td>2022</td>\n",
       "      <td>EN</td>\n",
       "      <td>FT</td>\n",
       "      <td>Data Analyst</td>\n",
       "      <td>67000</td>\n",
       "      <td>USD</td>\n",
       "      <td>67000</td>\n",
       "      <td>CA</td>\n",
       "      <td>0</td>\n",
       "      <td>CA</td>\n",
       "      <td>M</td>\n",
       "    </tr>\n",
       "    <tr>\n",
       "      <th>601</th>\n",
       "      <td>601</td>\n",
       "      <td>2022</td>\n",
       "      <td>EN</td>\n",
       "      <td>FT</td>\n",
       "      <td>Data Analyst</td>\n",
       "      <td>52000</td>\n",
       "      <td>USD</td>\n",
       "      <td>52000</td>\n",
       "      <td>CA</td>\n",
       "      <td>0</td>\n",
       "      <td>CA</td>\n",
       "      <td>M</td>\n",
       "    </tr>\n",
       "  </tbody>\n",
       "</table>\n",
       "<p>88 rows × 12 columns</p>\n",
       "</div>"
      ],
      "text/plain": [
       "     Unnamed: 0  work_year experience_level employment_type  \\\n",
       "5             5       2020               EN              FT   \n",
       "10           10       2020               EN              FT   \n",
       "12           12       2020               EN              FT   \n",
       "16           16       2020               EN              FT   \n",
       "18           18       2020               EN              FT   \n",
       "..          ...        ...              ...             ...   \n",
       "512         512       2022               EN              FT   \n",
       "514         514       2022               EN              FT   \n",
       "521         521       2022               EN              FT   \n",
       "600         600       2022               EN              FT   \n",
       "601         601       2022               EN              FT   \n",
       "\n",
       "                    job_title   salary salary_currency  salary_in_usd  \\\n",
       "5                Data Analyst    72000             USD          72000   \n",
       "10             Data Scientist    45000             EUR          51321   \n",
       "12             Data Scientist    35000             EUR          39916   \n",
       "16              Data Engineer  4450000             JPY          41689   \n",
       "18    Data Science Consultant   423000             INR           5707   \n",
       "..                        ...      ...             ...            ...   \n",
       "512             Data Engineer    65000             USD          65000   \n",
       "514   Data Analytics Engineer    20000             USD          20000   \n",
       "521  Computer Vision Engineer    10000             USD          10000   \n",
       "600              Data Analyst    67000             USD          67000   \n",
       "601              Data Analyst    52000             USD          52000   \n",
       "\n",
       "    employee_residence  remote_ratio company_location company_size  \n",
       "5                   US           100               US            L  \n",
       "10                  FR             0               FR            S  \n",
       "12                  FR             0               FR            M  \n",
       "16                  JP           100               JP            S  \n",
       "18                  IN            50               IN            M  \n",
       "..                 ...           ...              ...          ...  \n",
       "512                 US           100               US            S  \n",
       "514                 PK             0               PK            M  \n",
       "521                 PT           100               LU            M  \n",
       "600                 CA             0               CA            M  \n",
       "601                 CA             0               CA            M  \n",
       "\n",
       "[88 rows x 12 columns]"
      ]
     },
     "execution_count": 12,
     "metadata": {},
     "output_type": "execute_result"
    }
   ],
   "source": [
    "entry_df"
   ]
  },
  {
   "cell_type": "code",
   "execution_count": 13,
   "metadata": {},
   "outputs": [],
   "source": [
    "label = [\"Full time\",\"Part time/Contract/Freelance\"]\n",
    "count= [588,19]\n",
    "colors= [\"green\",\"red\"]\n",
    "explode_ft=(0.2,0)\n"
   ]
  },
  {
   "cell_type": "code",
   "execution_count": 14,
   "metadata": {},
   "outputs": [
    {
     "data": {
      "image/png": "[encoded data removed]",
      "text/plain": [
       "<Figure size 432x288 with 1 Axes>"
      ]
     },
     "metadata": {},
     "output_type": "display_data"
    }
   ],
   "source": [
    "plt.pie(count,explode=explode_ft,labels=label,colors=colors,autopct=\"%1.0f%%\", shadow=False, startangle=175)\n",
    "plt.axis(\"equal\")\n",
    "plt.savefig(\"job_type_percentage.jpg\")"
   ]
  },
  {
   "cell_type": "code",
   "execution_count": 15,
   "metadata": {},
   "outputs": [
    {
     "name": "stdout",
     "output_type": "stream",
     "text": [
      "61643.318181818184 is the avg salary of entry level data professionals\n",
      "138617.29285714286 is the avg salary of senior level data professionals\n",
      "87996.05633802817 is the avg salary of mid level data professionals\n",
      "199392.03846153847 is the avg salary of expert level data professionals\n"
     ]
    }
   ],
   "source": [
    "#average of each experience level\n",
    "avg_entry=entry_df[\"salary_in_usd\"].mean()\n",
    "print(f\"{avg_entry} is the avg salary of entry level data professionals\")\n",
    "\n",
    "avg_senior=Senior_df[\"salary_in_usd\"].mean()\n",
    "print(f\"{avg_senior} is the avg salary of senior level data professionals\")\n",
    "\n",
    "avg_mid=mid_df[\"salary_in_usd\"].mean()\n",
    "\n",
    "print(f\"{avg_mid} is the avg salary of mid level data professionals\")\n",
    "\n",
    "avg_expert=expert_df[\"salary_in_usd\"].mean()\n",
    "\n",
    "print(f\"{avg_expert} is the avg salary of expert level data professionals\")\n",
    "\n",
    "\n",
    "\n",
    "\n",
    "\n",
    "\n"
   ]
  },
  {
   "cell_type": "code",
   "execution_count": 16,
   "metadata": {},
   "outputs": [],
   "source": [
    "#avg_salary_copy= [\"entry\": avg_entry,\"mid\": avg_mid, \"senior\": avg_senior, \"expert\":avg_expert])\n",
    "#bar_df=pd.DataFrame(avg_salary_copy)\n",
    "#np.round(bar_df)\n",
    "levels = [\"Entry Level\", \"Mid Level\", \"Senior Level\", \"Executive/Director\"]\n",
    "avg_salaries = [61643.3, 87996.0,138617.2 ,199392.0]\n",
    "x_axis = np.arange(len(avg_salaries))\n"
   ]
  },
  {
   "cell_type": "code",
   "execution_count": 21,
   "metadata": {},
   "outputs": [
    {
     "data": {
      "text/plain": [
       "88"
      ]
     },
     "execution_count": 21,
     "metadata": {},
     "output_type": "execute_result"
    }
   ],
   "source": [
    "len(entry_df)\n",
    "len(mid_df)\n",
    "len(Senior_df)\n",
    "len"
   ]
  },
  {
   "cell_type": "code",
   "execution_count": null,
   "metadata": {},
   "outputs": [
    {
     "data": {
      "text/plain": [
       "(0.0, 200392.0)"
      ]
     },
     "execution_count": 31,
     "metadata": {},
     "output_type": "execute_result"
    },
    {
     "data": {
      "image/png": "[encoded data removed]",
      "text/plain": [
       "<Figure size 1152x648 with 1 Axes>"
      ]
     },
     "metadata": {
      "needs_background": "light"
     },
     "output_type": "display_data"
    }
   ],
   "source": [
    "\n",
    "ticks=[value for value in x_axis]\n",
    "plt.figure(figsize=(16,9))\n",
    "plt.xticks(ticks, levels)\n",
    "plt.bar(x_axis, avg_salaries, color='g', alpha=.875, align=\"center\")\n",
    "plt.xlabel(\"Experience Level\")\n",
    "plt.ylabel(\"Average Salary\")\n",
    "plt.savefig(\"salary_by_experience.jpg\")\n",
    "plt.ylim(0, max(avg_salaries)+1000)"
   ]
  },
  {
   "cell_type": "code",
   "execution_count": null,
   "metadata": {},
   "outputs": [
    {
     "data": {
      "text/html": [
       "<div>\n",
       "<style scoped>\n",
       "    .dataframe tbody tr th:only-of-type {\n",
       "        vertical-align: middle;\n",
       "    }\n",
       "\n",
       "    .dataframe tbody tr th {\n",
       "        vertical-align: top;\n",
       "    }\n",
       "\n",
       "    .dataframe thead th {\n",
       "        text-align: right;\n",
       "    }\n",
       "</style>\n",
       "<table border=\"1\" class=\"dataframe\">\n",
       "  <thead>\n",
       "    <tr style=\"text-align: right;\">\n",
       "      <th></th>\n",
       "      <th>Unnamed: 0</th>\n",
       "      <th>work_year</th>\n",
       "      <th>experience_level</th>\n",
       "      <th>employment_type</th>\n",
       "      <th>job_title</th>\n",
       "      <th>salary</th>\n",
       "      <th>salary_currency</th>\n",
       "      <th>salary_in_usd</th>\n",
       "      <th>employee_residence</th>\n",
       "      <th>remote_ratio</th>\n",
       "      <th>company_location</th>\n",
       "      <th>company_size</th>\n",
       "    </tr>\n",
       "  </thead>\n",
       "  <tbody>\n",
       "    <tr>\n",
       "      <th>113</th>\n",
       "      <td>113</td>\n",
       "      <td>2021</td>\n",
       "      <td>EN</td>\n",
       "      <td>PT</td>\n",
       "      <td>AI Scientist</td>\n",
       "      <td>12000</td>\n",
       "      <td>USD</td>\n",
       "      <td>12000</td>\n",
       "      <td>PK</td>\n",
       "      <td>100</td>\n",
       "      <td>US</td>\n",
       "      <td>M</td>\n",
       "    </tr>\n",
       "    <tr>\n",
       "      <th>139</th>\n",
       "      <td>139</td>\n",
       "      <td>2021</td>\n",
       "      <td>EN</td>\n",
       "      <td>FT</td>\n",
       "      <td>Data Scientist</td>\n",
       "      <td>80000</td>\n",
       "      <td>USD</td>\n",
       "      <td>80000</td>\n",
       "      <td>US</td>\n",
       "      <td>100</td>\n",
       "      <td>US</td>\n",
       "      <td>M</td>\n",
       "    </tr>\n",
       "    <tr>\n",
       "      <th>134</th>\n",
       "      <td>134</td>\n",
       "      <td>2021</td>\n",
       "      <td>EN</td>\n",
       "      <td>FT</td>\n",
       "      <td>Data Scientist</td>\n",
       "      <td>100000</td>\n",
       "      <td>USD</td>\n",
       "      <td>100000</td>\n",
       "      <td>US</td>\n",
       "      <td>0</td>\n",
       "      <td>US</td>\n",
       "      <td>S</td>\n",
       "    </tr>\n",
       "    <tr>\n",
       "      <th>131</th>\n",
       "      <td>131</td>\n",
       "      <td>2021</td>\n",
       "      <td>EN</td>\n",
       "      <td>FT</td>\n",
       "      <td>Data Scientist</td>\n",
       "      <td>42000</td>\n",
       "      <td>EUR</td>\n",
       "      <td>49646</td>\n",
       "      <td>FR</td>\n",
       "      <td>50</td>\n",
       "      <td>FR</td>\n",
       "      <td>M</td>\n",
       "    </tr>\n",
       "    <tr>\n",
       "      <th>130</th>\n",
       "      <td>130</td>\n",
       "      <td>2021</td>\n",
       "      <td>EN</td>\n",
       "      <td>FT</td>\n",
       "      <td>Machine Learning Developer</td>\n",
       "      <td>100000</td>\n",
       "      <td>USD</td>\n",
       "      <td>100000</td>\n",
       "      <td>IQ</td>\n",
       "      <td>50</td>\n",
       "      <td>IQ</td>\n",
       "      <td>S</td>\n",
       "    </tr>\n",
       "    <tr>\n",
       "      <th>...</th>\n",
       "      <td>...</td>\n",
       "      <td>...</td>\n",
       "      <td>...</td>\n",
       "      <td>...</td>\n",
       "      <td>...</td>\n",
       "      <td>...</td>\n",
       "      <td>...</td>\n",
       "      <td>...</td>\n",
       "      <td>...</td>\n",
       "      <td>...</td>\n",
       "      <td>...</td>\n",
       "      <td>...</td>\n",
       "    </tr>\n",
       "    <tr>\n",
       "      <th>364</th>\n",
       "      <td>364</td>\n",
       "      <td>2022</td>\n",
       "      <td>SE</td>\n",
       "      <td>FT</td>\n",
       "      <td>Data Engineer</td>\n",
       "      <td>160000</td>\n",
       "      <td>USD</td>\n",
       "      <td>160000</td>\n",
       "      <td>US</td>\n",
       "      <td>0</td>\n",
       "      <td>US</td>\n",
       "      <td>L</td>\n",
       "    </tr>\n",
       "    <tr>\n",
       "      <th>363</th>\n",
       "      <td>363</td>\n",
       "      <td>2022</td>\n",
       "      <td>SE</td>\n",
       "      <td>FT</td>\n",
       "      <td>Data Analyst</td>\n",
       "      <td>61300</td>\n",
       "      <td>USD</td>\n",
       "      <td>61300</td>\n",
       "      <td>CA</td>\n",
       "      <td>100</td>\n",
       "      <td>CA</td>\n",
       "      <td>M</td>\n",
       "    </tr>\n",
       "    <tr>\n",
       "      <th>362</th>\n",
       "      <td>362</td>\n",
       "      <td>2022</td>\n",
       "      <td>SE</td>\n",
       "      <td>FT</td>\n",
       "      <td>Data Analyst</td>\n",
       "      <td>130000</td>\n",
       "      <td>USD</td>\n",
       "      <td>130000</td>\n",
       "      <td>CA</td>\n",
       "      <td>100</td>\n",
       "      <td>CA</td>\n",
       "      <td>M</td>\n",
       "    </tr>\n",
       "    <tr>\n",
       "      <th>371</th>\n",
       "      <td>371</td>\n",
       "      <td>2022</td>\n",
       "      <td>SE</td>\n",
       "      <td>FT</td>\n",
       "      <td>Machine Learning Engineer</td>\n",
       "      <td>189650</td>\n",
       "      <td>USD</td>\n",
       "      <td>189650</td>\n",
       "      <td>US</td>\n",
       "      <td>0</td>\n",
       "      <td>US</td>\n",
       "      <td>M</td>\n",
       "    </tr>\n",
       "    <tr>\n",
       "      <th>303</th>\n",
       "      <td>303</td>\n",
       "      <td>2022</td>\n",
       "      <td>SE</td>\n",
       "      <td>FT</td>\n",
       "      <td>Data Scientist</td>\n",
       "      <td>123000</td>\n",
       "      <td>USD</td>\n",
       "      <td>123000</td>\n",
       "      <td>US</td>\n",
       "      <td>100</td>\n",
       "      <td>US</td>\n",
       "      <td>M</td>\n",
       "    </tr>\n",
       "  </tbody>\n",
       "</table>\n",
       "<p>607 rows × 12 columns</p>\n",
       "</div>"
      ],
      "text/plain": [
       "     Unnamed: 0  work_year experience_level employment_type  \\\n",
       "113         113       2021               EN              PT   \n",
       "139         139       2021               EN              FT   \n",
       "134         134       2021               EN              FT   \n",
       "131         131       2021               EN              FT   \n",
       "130         130       2021               EN              FT   \n",
       "..          ...        ...              ...             ...   \n",
       "364         364       2022               SE              FT   \n",
       "363         363       2022               SE              FT   \n",
       "362         362       2022               SE              FT   \n",
       "371         371       2022               SE              FT   \n",
       "303         303       2022               SE              FT   \n",
       "\n",
       "                      job_title  salary salary_currency  salary_in_usd  \\\n",
       "113                AI Scientist   12000             USD          12000   \n",
       "139              Data Scientist   80000             USD          80000   \n",
       "134              Data Scientist  100000             USD         100000   \n",
       "131              Data Scientist   42000             EUR          49646   \n",
       "130  Machine Learning Developer  100000             USD         100000   \n",
       "..                          ...     ...             ...            ...   \n",
       "364               Data Engineer  160000             USD         160000   \n",
       "363                Data Analyst   61300             USD          61300   \n",
       "362                Data Analyst  130000             USD         130000   \n",
       "371   Machine Learning Engineer  189650             USD         189650   \n",
       "303              Data Scientist  123000             USD         123000   \n",
       "\n",
       "    employee_residence  remote_ratio company_location company_size  \n",
       "113                 PK           100               US            M  \n",
       "139                 US           100               US            M  \n",
       "134                 US             0               US            S  \n",
       "131                 FR            50               FR            M  \n",
       "130                 IQ            50               IQ            S  \n",
       "..                 ...           ...              ...          ...  \n",
       "364                 US             0               US            L  \n",
       "363                 CA           100               CA            M  \n",
       "362                 CA           100               CA            M  \n",
       "371                 US             0               US            M  \n",
       "303                 US           100               US            M  \n",
       "\n",
       "[607 rows x 12 columns]"
      ]
     },
     "execution_count": 32,
     "metadata": {},
     "output_type": "execute_result"
    }
   ],
   "source": [
    "\n",
    "ascending_exp_df=file_one_df.sort_values('experience_level')\n",
    "ascending_exp_df"
   ]
  },
  {
   "cell_type": "code",
   "execution_count": null,
   "metadata": {},
   "outputs": [
    {
     "data": {
      "image/png": "[encoded data removed]",
      "text/plain": [
       "<Figure size 1440x720 with 1 Axes>"
      ]
     },
     "metadata": {
      "needs_background": "light"
     },
     "output_type": "display_data"
    }
   ],
   "source": [
    "sorted_salaries=file_one_df.sort_values(\"salary_in_usd\")\n",
    "\n",
    "\n",
    "plt.figure(figsize=(20,10))\n",
    "plt.scatter(sorted_salaries[\"company_location\"],sorted_salaries[\"salary_in_usd\"])\n",
    "plt.savefig(\"salary_by_country.jpg\")\n",
    "\n"
   ]
  },
  {
   "cell_type": "code",
   "execution_count": null,
   "metadata": {},
   "outputs": [
    {
     "data": {
      "text/plain": [
       "Data Scientist                              143\n",
       "Data Engineer                               132\n",
       "Data Analyst                                 97\n",
       "Machine Learning Engineer                    41\n",
       "Research Scientist                           16\n",
       "Data Science Manager                         12\n",
       "Data Architect                               11\n",
       "Big Data Engineer                             8\n",
       "Machine Learning Scientist                    8\n",
       "Principal Data Scientist                      7\n",
       "AI Scientist                                  7\n",
       "Data Science Consultant                       7\n",
       "Director of Data Science                      7\n",
       "Data Analytics Manager                        7\n",
       "ML Engineer                                   6\n",
       "Computer Vision Engineer                      6\n",
       "BI Data Analyst                               6\n",
       "Lead Data Engineer                            6\n",
       "Data Engineering Manager                      5\n",
       "Business Data Analyst                         5\n",
       "Head of Data                                  5\n",
       "Applied Data Scientist                        5\n",
       "Applied Machine Learning Scientist            4\n",
       "Head of Data Science                          4\n",
       "Analytics Engineer                            4\n",
       "Data Analytics Engineer                       4\n",
       "Machine Learning Developer                    3\n",
       "Machine Learning Infrastructure Engineer      3\n",
       "Lead Data Scientist                           3\n",
       "Computer Vision Software Engineer             3\n",
       "Lead Data Analyst                             3\n",
       "Data Science Engineer                         3\n",
       "Principal Data Engineer                       3\n",
       "Principal Data Analyst                        2\n",
       "ETL Developer                                 2\n",
       "Product Data Analyst                          2\n",
       "Director of Data Engineering                  2\n",
       "Financial Data Analyst                        2\n",
       "Cloud Data Engineer                           2\n",
       "Lead Machine Learning Engineer                1\n",
       "NLP Engineer                                  1\n",
       "Head of Machine Learning                      1\n",
       "3D Computer Vision Researcher                 1\n",
       "Data Specialist                               1\n",
       "Staff Data Scientist                          1\n",
       "Big Data Architect                            1\n",
       "Finance Data Analyst                          1\n",
       "Marketing Data Analyst                        1\n",
       "Machine Learning Manager                      1\n",
       "Data Analytics Lead                           1\n",
       "Name: job_title, dtype: int64"
      ]
     },
     "execution_count": 34,
     "metadata": {},
     "output_type": "execute_result"
    }
   ],
   "source": [
    "job_counts_series = file_one_df[\"job_title\"].value_counts()\n",
    "job_counts_series\n",
    "#country_job_count =file_one_df[\"company_location\"].value_counts()\n",
    "#country_job_count"
   ]
  },
  {
   "cell_type": "code",
   "execution_count": null,
   "metadata": {},
   "outputs": [
    {
     "data": {
      "text/plain": [
       "FT    588\n",
       "PT     10\n",
       "CT      5\n",
       "FL      4\n",
       "Name: employment_type, dtype: int64"
      ]
     },
     "execution_count": 35,
     "metadata": {},
     "output_type": "execute_result"
    }
   ],
   "source": [
    "employment_count_type=file_one_df['employment_type'].value_counts()\n",
    "employment_count_type"
   ]
  },
  {
   "cell_type": "code",
   "execution_count": null,
   "metadata": {},
   "outputs": [
    {
     "ename": "NameError",
     "evalue": "name 'file_one_df' is not defined",
     "output_type": "error",
     "traceback": [
      "\u001b[1;31m---------------------------------------------------------------------------\u001b[0m",
      "\u001b[1;31mNameError\u001b[0m                                 Traceback (most recent call last)",
      "\u001b[1;32mc:\\Users\\andreas h\\Desktop\\Data Class Folder\\dataclass\\projectonefolder\\project_1\\andreas_salaries.ipynb Cell 16\u001b[0m in \u001b[0;36m<cell line: 3>\u001b[1;34m()\u001b[0m\n\u001b[0;32m      <a href='vscode-notebook-cell:/c%3A/Users/andreas%20h/Desktop/Data%20Class%20Folder/dataclass/projectonefolder/project_1/andreas_salaries.ipynb#X21sZmlsZQ%3D%3D?line=0'>1</a>\u001b[0m \u001b[39m# Set x axis and variables\u001b[39;00m\n\u001b[0;32m      <a href='vscode-notebook-cell:/c%3A/Users/andreas%20h/Desktop/Data%20Class%20Folder/dataclass/projectonefolder/project_1/andreas_salaries.ipynb#X21sZmlsZQ%3D%3D?line=1'>2</a>\u001b[0m x_axis_level \u001b[39m=\u001b[39m (\u001b[39m\"\u001b[39m\u001b[39mEntry\u001b[39m\u001b[39m\"\u001b[39m,\u001b[39m\"\u001b[39m\u001b[39mMid\u001b[39m\u001b[39m\"\u001b[39m,\u001b[39m\"\u001b[39m\u001b[39mSenior\u001b[39m\u001b[39m\"\u001b[39m,\u001b[39m\"\u001b[39m\u001b[39mExecutive\u001b[39m\u001b[39m\"\u001b[39m)\n\u001b[1;32m----> <a href='vscode-notebook-cell:/c%3A/Users/andreas%20h/Desktop/Data%20Class%20Folder/dataclass/projectonefolder/project_1/andreas_salaries.ipynb#X21sZmlsZQ%3D%3D?line=2'>3</a>\u001b[0m salary \u001b[39m=\u001b[39m file_one_df[\u001b[39m\"\u001b[39m\u001b[39msalary_in_usd\u001b[39m\u001b[39m\"\u001b[39m]\n\u001b[0;32m      <a href='vscode-notebook-cell:/c%3A/Users/andreas%20h/Desktop/Data%20Class%20Folder/dataclass/projectonefolder/project_1/andreas_salaries.ipynb#X21sZmlsZQ%3D%3D?line=3'>4</a>\u001b[0m cos \u001b[39m=\u001b[39m (x_axis_level)\n",
      "\u001b[1;31mNameError\u001b[0m: name 'file_one_df' is not defined"
     ]
    }
   ],
   "source": [
    "# Set x axis and variables\n",
    "x_axis_level = (\"Entry\",\"Mid\",\"Senior\",\"Executive\")\n",
    "salary = file_one_df[\"salary_in_usd\"]\n",
    "cos = (x_axis_level)\n"
   ]
  },
  {
   "cell_type": "code",
   "execution_count": null,
   "metadata": {},
   "outputs": [
    {
     "data": {
      "text/html": [
       "<div>\n",
       "<style scoped>\n",
       "    .dataframe tbody tr th:only-of-type {\n",
       "        vertical-align: middle;\n",
       "    }\n",
       "\n",
       "    .dataframe tbody tr th {\n",
       "        vertical-align: top;\n",
       "    }\n",
       "\n",
       "    .dataframe thead th {\n",
       "        text-align: right;\n",
       "    }\n",
       "</style>\n",
       "<table border=\"1\" class=\"dataframe\">\n",
       "  <thead>\n",
       "    <tr style=\"text-align: right;\">\n",
       "      <th></th>\n",
       "      <th>job_title</th>\n",
       "      <th>experience_level</th>\n",
       "      <th>salary_in_usd</th>\n",
       "      <th>company_size</th>\n",
       "      <th>company_location</th>\n",
       "    </tr>\n",
       "  </thead>\n",
       "  <tbody>\n",
       "    <tr>\n",
       "      <th>0</th>\n",
       "      <td>Data Scientist</td>\n",
       "      <td>MI</td>\n",
       "      <td>79833</td>\n",
       "      <td>L</td>\n",
       "      <td>DE</td>\n",
       "    </tr>\n",
       "    <tr>\n",
       "      <th>1</th>\n",
       "      <td>Machine Learning Scientist</td>\n",
       "      <td>SE</td>\n",
       "      <td>260000</td>\n",
       "      <td>S</td>\n",
       "      <td>JP</td>\n",
       "    </tr>\n",
       "    <tr>\n",
       "      <th>2</th>\n",
       "      <td>Big Data Engineer</td>\n",
       "      <td>SE</td>\n",
       "      <td>109024</td>\n",
       "      <td>M</td>\n",
       "      <td>GB</td>\n",
       "    </tr>\n",
       "    <tr>\n",
       "      <th>3</th>\n",
       "      <td>Product Data Analyst</td>\n",
       "      <td>MI</td>\n",
       "      <td>20000</td>\n",
       "      <td>S</td>\n",
       "      <td>HN</td>\n",
       "    </tr>\n",
       "    <tr>\n",
       "      <th>4</th>\n",
       "      <td>Machine Learning Engineer</td>\n",
       "      <td>SE</td>\n",
       "      <td>150000</td>\n",
       "      <td>L</td>\n",
       "      <td>US</td>\n",
       "    </tr>\n",
       "    <tr>\n",
       "      <th>...</th>\n",
       "      <td>...</td>\n",
       "      <td>...</td>\n",
       "      <td>...</td>\n",
       "      <td>...</td>\n",
       "      <td>...</td>\n",
       "    </tr>\n",
       "    <tr>\n",
       "      <th>95</th>\n",
       "      <td>Cloud Data Engineer</td>\n",
       "      <td>MI</td>\n",
       "      <td>89294</td>\n",
       "      <td>L</td>\n",
       "      <td>SG</td>\n",
       "    </tr>\n",
       "    <tr>\n",
       "      <th>96</th>\n",
       "      <td>AI Scientist</td>\n",
       "      <td>EN</td>\n",
       "      <td>12000</td>\n",
       "      <td>S</td>\n",
       "      <td>US</td>\n",
       "    </tr>\n",
       "    <tr>\n",
       "      <th>97</th>\n",
       "      <td>Financial Data Analyst</td>\n",
       "      <td>MI</td>\n",
       "      <td>450000</td>\n",
       "      <td>L</td>\n",
       "      <td>US</td>\n",
       "    </tr>\n",
       "    <tr>\n",
       "      <th>98</th>\n",
       "      <td>Computer Vision Software Engineer</td>\n",
       "      <td>EN</td>\n",
       "      <td>70000</td>\n",
       "      <td>M</td>\n",
       "      <td>US</td>\n",
       "    </tr>\n",
       "    <tr>\n",
       "      <th>99</th>\n",
       "      <td>Computer Vision Software Engineer</td>\n",
       "      <td>MI</td>\n",
       "      <td>95746</td>\n",
       "      <td>S</td>\n",
       "      <td>US</td>\n",
       "    </tr>\n",
       "  </tbody>\n",
       "</table>\n",
       "<p>100 rows × 5 columns</p>\n",
       "</div>"
      ],
      "text/plain": [
       "                            job_title experience_level  salary_in_usd  \\\n",
       "0                      Data Scientist               MI          79833   \n",
       "1          Machine Learning Scientist               SE         260000   \n",
       "2                   Big Data Engineer               SE         109024   \n",
       "3                Product Data Analyst               MI          20000   \n",
       "4           Machine Learning Engineer               SE         150000   \n",
       "..                                ...              ...            ...   \n",
       "95                Cloud Data Engineer               MI          89294   \n",
       "96                       AI Scientist               EN          12000   \n",
       "97             Financial Data Analyst               MI         450000   \n",
       "98  Computer Vision Software Engineer               EN          70000   \n",
       "99  Computer Vision Software Engineer               MI          95746   \n",
       "\n",
       "   company_size company_location  \n",
       "0             L               DE  \n",
       "1             S               JP  \n",
       "2             M               GB  \n",
       "3             S               HN  \n",
       "4             L               US  \n",
       "..          ...              ...  \n",
       "95            L               SG  \n",
       "96            S               US  \n",
       "97            L               US  \n",
       "98            M               US  \n",
       "99            S               US  \n",
       "\n",
       "[100 rows x 5 columns]"
      ]
     },
     "execution_count": 37,
     "metadata": {},
     "output_type": "execute_result"
    }
   ],
   "source": [
    "file_one_cleaned = file_one_df[[\"job_title\",\"experience_level\",\"salary_in_usd\",\"company_size\",\"company_location\"]]\n",
    "file_one_cleaned.head(100)"
   ]
  },
  {
   "cell_type": "code",
   "execution_count": null,
   "metadata": {},
   "outputs": [],
   "source": [
    "job_title=file_one_cleaned[\"job_title\"]\n",
    "salary= file_one_cleaned[\"salary_in_usd\"]"
   ]
  },
  {
   "cell_type": "code",
   "execution_count": null,
   "metadata": {},
   "outputs": [
    {
     "ename": "SyntaxError",
     "evalue": "unmatched ']' (3927883696.py, line 1)",
     "output_type": "error",
     "traceback": [
      "\u001b[1;36m  Input \u001b[1;32mIn [39]\u001b[1;36m\u001b[0m\n\u001b[1;33m    file_one_cleaned.loc[file_one_cleaned]]\u001b[0m\n\u001b[1;37m                                          ^\u001b[0m\n\u001b[1;31mSyntaxError\u001b[0m\u001b[1;31m:\u001b[0m unmatched ']'\n"
     ]
    }
   ],
   "source": [
    "file_one_cleaned.loc[file_one_cleaned]]\n"
   ]
  },
  {
   "cell_type": "code",
   "execution_count": null,
   "metadata": {},
   "outputs": [],
   "source": [
    "job_counts_series"
   ]
  },
  {
   "cell_type": "code",
   "execution_count": null,
   "metadata": {},
   "outputs": [],
   "source": [
    "#bar graph x axis is salary in usd + y axis is job title\n",
    "plt.figure(figsize=(20,10))\n",
    "plt.bar(job_title,salary, color = 'b',align = \"center\")\n",
    "plt.xticks(file_one_cleaned[\"job_title\"], rotation = \"vertical\")\n"
   ]
  },
  {
   "cell_type": "code",
   "execution_count": null,
   "metadata": {},
   "outputs": [],
   "source": [
    "#make a new csv file with the job titles that i want, inner merge with the data frame that i have cleaned already"
   ]
  },
  {
   "cell_type": "code",
   "execution_count": null,
   "metadata": {},
   "outputs": [],
   "source": [
    "\n",
    "\n",
    "limited_job_salary=file_one_df.loc[file_one_df['job_title']==\"data scientist\"]\n",
    "limited_job_salary.head()"
   ]
  },
  {
   "cell_type": "code",
   "execution_count": null,
   "metadata": {},
   "outputs": [
    {
     "data": {
      "image/png": "[encoded data removed]",
      "text/plain": [
       "<Figure size 1152x648 with 1 Axes>"
      ]
     },
     "metadata": {
      "needs_background": "light"
     },
     "output_type": "display_data"
    }
   ],
   "source": [
    "\n",
    "employee_location = file_one_df['employee_residence']\n",
    "plt.figure(figsize=(16,9))\n",
    "plt.bar(employee_location.index,employee_location, color='g', alpha=.875, align=\"center\")\n",
    "\n",
    "plt.xlabel=\"Location of Employee\"\n",
    "plt.ylabel=\"count\"\n",
    "\n",
    "plt.show()"
   ]
  },
  {
   "cell_type": "code",
   "execution_count": null,
   "metadata": {},
   "outputs": [
    {
     "data": {
      "text/plain": [
       "88"
      ]
     },
     "execution_count": 77,
     "metadata": {},
     "output_type": "execute_result"
    }
   ],
   "source": [
    "entry_sorted=entry_df[\"salary_in_usd\"].sort_values()\n",
    "entry_sorted.shape\n",
    "x_axis=np.arange(0,88,1)\n",
    "\n",
    "data = [value for value in entry_sorted]\n",
    "\n",
    "\n"
   ]
  },
  {
   "cell_type": "code",
   "execution_count": null,
   "metadata": {},
   "outputs": [
    {
     "ename": "NameError",
     "evalue": "name 'plt' is not defined",
     "output_type": "error",
     "traceback": [
      "\u001b[1;31m---------------------------------------------------------------------------\u001b[0m",
      "\u001b[1;31mNameError\u001b[0m                                 Traceback (most recent call last)",
      "\u001b[1;32mc:\\Users\\andreas h\\Desktop\\Data Class Folder\\dataclass\\projectonefolder\\project_1\\andreas_salaries.ipynb Cell 27\u001b[0m in \u001b[0;36m<cell line: 1>\u001b[1;34m()\u001b[0m\n\u001b[1;32m----> <a href='vscode-notebook-cell:/c%3A/Users/andreas%20h/Desktop/Data%20Class%20Folder/dataclass/projectonefolder/project_1/andreas_salaries.ipynb#X35sZmlsZQ%3D%3D?line=0'>1</a>\u001b[0m plt\u001b[39m.\u001b[39mfigure(figsize\u001b[39m=\u001b[39m(\u001b[39m20\u001b[39m,\u001b[39m10\u001b[39m))\n\u001b[0;32m      <a href='vscode-notebook-cell:/c%3A/Users/andreas%20h/Desktop/Data%20Class%20Folder/dataclass/projectonefolder/project_1/andreas_salaries.ipynb#X35sZmlsZQ%3D%3D?line=1'>2</a>\u001b[0m plt\u001b[39m.\u001b[39mscatter(x_axis,data,marker\u001b[39m=\u001b[39m\u001b[39m\"\u001b[39m\u001b[39m\"\u001b[39m, facecolors\u001b[39m=\u001b[39m\u001b[39m\"\u001b[39m\u001b[39mblue\u001b[39m\u001b[39m\"\u001b[39m, edgecolors\u001b[39m=\u001b[39m\u001b[39m\"\u001b[39m\u001b[39mblack\u001b[39m\u001b[39m\"\u001b[39m,\n\u001b[0;32m      <a href='vscode-notebook-cell:/c%3A/Users/andreas%20h/Desktop/Data%20Class%20Folder/dataclass/projectonefolder/project_1/andreas_salaries.ipynb#X35sZmlsZQ%3D%3D?line=2'>3</a>\u001b[0m             s\u001b[39m=\u001b[39mx_axis, alpha\u001b[39m=\u001b[39m\u001b[39m0.75\u001b[39m)\n",
      "\u001b[1;31mNameError\u001b[0m: name 'plt' is not defined"
     ]
    }
   ],
   "source": [
    "plt.figure(figsize=(20,10))\n",
    "plt.scatter(x_axis,data,marker=\"\", facecolors=\"blue\", edgecolors=\"black\",\n",
    "            s=x_axis, alpha=0.75)\n",
    "#plt.savefig(\"entry_salary_range.jpg\")"
   ]
  },
  {
   "cell_type": "code",
   "execution_count": null,
   "metadata": {},
   "outputs": [],
   "source": [
    "company_size = file_one_df['company_size'].value_counts()\n",
    "company_size\n",
    "plt.figure(figsize=(16,9))\n",
    "plt.bar(company_size.index,company_size.values,color=\"r\",alpha=.625)\n",
    "plt.xlabel=\"Size of Company\"\n",
    "plt.ylabel=\"Number of Jobs in Dataset\"\n",
    "plt.savefig(\"amount_of_jobs_by_size_of_company.jpg\")"
   ]
  },
  {
   "cell_type": "code",
   "execution_count": null,
   "metadata": {},
   "outputs": [],
   "source": [
    "data_analyst=\n",
    "machine_learning_engineer=\n",
    "data_engineer="
   ]
  },
  {
   "cell_type": "code",
   "execution_count": null,
   "metadata": {},
   "outputs": [],
   "source": []
  }
 ],
 "metadata": {
  "kernelspec": {
   "display_name": "Python 3.9.12 ('base')",
   "language": "python",
   "name": "python3"
  },
  "language_info": {
   "codemirror_mode": {
    "name": "ipython",
    "version": 3
   },
   "file_extension": ".py",
   "mimetype": "text/x-python",
   "name": "python",
   "nbconvert_exporter": "python",
   "pygments_lexer": "ipython3",
   "version": "3.9.12"
  },
  "orig_nbformat": 4,
  "vscode": {
   "interpreter": {
    "hash": "e69ff478b46a3c5f502a27cc4829c5e40f70c1c59167fc228a20d0a40adf7f32"
   }
  }
 },
 "nbformat": 4,
 "nbformat_minor": 2
}

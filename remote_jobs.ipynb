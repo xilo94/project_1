{
 "cells": [
  {
   "cell_type": "code",
   "execution_count": 86,
   "metadata": {},
   "outputs": [],
   "source": [
    "%matplotlib widget"
   ]
  },
  {
   "cell_type": "code",
   "execution_count": 87,
   "metadata": {},
   "outputs": [],
   "source": [
    "import json\n",
    "import matplotlib.pyplot as plt\n",
    "import pandas as pd\n",
    "import numpy as np"
   ]
  },
  {
   "cell_type": "code",
   "execution_count": null,
   "metadata": {},
   "outputs": [],
   "source": [
    "url = \".../Project_1/dataanalyst-2.csv\"\n",
    "\n",
    "data_df = pd.read_csv('dataanalyst-2.csv')\n",
    "data_df.head()"
   ]
  },
  {
   "cell_type": "code",
   "execution_count": null,
   "metadata": {},
   "outputs": [],
   "source": [
    "data_df.columns"
   ]
  },
  {
   "cell_type": "code",
   "execution_count": null,
   "metadata": {},
   "outputs": [],
   "source": [
    "data_df.dropna()\n",
    "data_df.isnull().any()\n",
    "data_df"
   ]
  },
  {
   "cell_type": "code",
   "execution_count": null,
   "metadata": {},
   "outputs": [],
   "source": [
    "data_city = data_df[\"City\"]\n",
    "data_city"
   ]
  },
  {
   "cell_type": "code",
   "execution_count": null,
   "metadata": {},
   "outputs": [],
   "source": [
    "data_salary = data_df[\"job salary\"]\n",
    "data_salary"
   ]
  },
  {
   "cell_type": "code",
   "execution_count": null,
   "metadata": {},
   "outputs": [],
   "source": [
    "data_company = data_df[\"company\"]\n",
    "data_company"
   ]
  },
  {
   "cell_type": "code",
   "execution_count": null,
   "metadata": {},
   "outputs": [],
   "source": [
    "data_df = data_df.rename(columns = {\"Experince Level\": \"Experience Level\"})\n",
    "data_df\n"
   ]
  },
  {
   "cell_type": "code",
   "execution_count": null,
   "metadata": {},
   "outputs": [],
   "source": [
    "data_manager = data_df['Manager'].value_counts()\n",
    "data_manager"
   ]
  },
  {
   "cell_type": "code",
   "execution_count": null,
   "metadata": {},
   "outputs": [],
   "source": [
    "data_engineer = data_df['Engineer'].value_counts()\n",
    "data_engineer"
   ]
  },
  {
   "cell_type": "code",
   "execution_count": 89,
   "metadata": {},
   "outputs": [
    {
     "data": {
      "text/html": [
       "<div>\n",
       "<style scoped>\n",
       "    .dataframe tbody tr th:only-of-type {\n",
       "        vertical-align: middle;\n",
       "    }\n",
       "\n",
       "    .dataframe tbody tr th {\n",
       "        vertical-align: top;\n",
       "    }\n",
       "\n",
       "    .dataframe thead th {\n",
       "        text-align: right;\n",
       "    }\n",
       "</style>\n",
       "<table border=\"1\" class=\"dataframe\">\n",
       "  <thead>\n",
       "    <tr style=\"text-align: right;\">\n",
       "      <th></th>\n",
       "      <th>company</th>\n",
       "      <th>title</th>\n",
       "      <th>job posted date</th>\n",
       "      <th>job salary</th>\n",
       "      <th>summary</th>\n",
       "      <th>Experince Level</th>\n",
       "      <th>City</th>\n",
       "      <th>State</th>\n",
       "    </tr>\n",
       "  </thead>\n",
       "  <tbody>\n",
       "    <tr>\n",
       "      <th>0</th>\n",
       "      <td>Bobcat Company</td>\n",
       "      <td>Data Science Analyst</td>\n",
       "      <td>PostedToday</td>\n",
       "      <td>Full-time</td>\n",
       "      <td>Data &amp; statistical analysis: 1 year (Preferred...</td>\n",
       "      <td>Entry Level</td>\n",
       "      <td>West Fargo</td>\n",
       "      <td>ND 58078</td>\n",
       "    </tr>\n",
       "    <tr>\n",
       "      <th>1</th>\n",
       "      <td>Ascendo Resources</td>\n",
       "      <td>Data Analyst</td>\n",
       "      <td>PostedJust posted</td>\n",
       "      <td>$75000 a year</td>\n",
       "      <td>Developing and maintaining databases, data sys...</td>\n",
       "      <td>Entry Level</td>\n",
       "      <td>Remote+2 locations</td>\n",
       "      <td>NaN</td>\n",
       "    </tr>\n",
       "    <tr>\n",
       "      <th>2</th>\n",
       "      <td>Stafug</td>\n",
       "      <td>Data/Business Analyst</td>\n",
       "      <td>PostedJust posted</td>\n",
       "      <td>$55 - $65 an hour</td>\n",
       "      <td>In addition, you will provide insight to other...</td>\n",
       "      <td>Entry Level</td>\n",
       "      <td>+2 locationsRemote</td>\n",
       "      <td>NaN</td>\n",
       "    </tr>\n",
       "    <tr>\n",
       "      <th>3</th>\n",
       "      <td>Rohatech llc</td>\n",
       "      <td>Data Analyst - Tableau</td>\n",
       "      <td>PostedJust posted</td>\n",
       "      <td>Full-time +1</td>\n",
       "      <td>12 Month Contract - Potential For Extension or...</td>\n",
       "      <td>Entry Level</td>\n",
       "      <td>Remote</td>\n",
       "      <td>NaN</td>\n",
       "    </tr>\n",
       "    <tr>\n",
       "      <th>4</th>\n",
       "      <td>Procom</td>\n",
       "      <td>Data Entry Analyst - 331923</td>\n",
       "      <td>Posted4 days ago</td>\n",
       "      <td>Contract</td>\n",
       "      <td>Assist team members with procedural tasks such...</td>\n",
       "      <td>Entry Level</td>\n",
       "      <td>Getzville</td>\n",
       "      <td>NY</td>\n",
       "    </tr>\n",
       "    <tr>\n",
       "      <th>...</th>\n",
       "      <td>...</td>\n",
       "      <td>...</td>\n",
       "      <td>...</td>\n",
       "      <td>...</td>\n",
       "      <td>...</td>\n",
       "      <td>...</td>\n",
       "      <td>...</td>\n",
       "      <td>...</td>\n",
       "    </tr>\n",
       "    <tr>\n",
       "      <th>355</th>\n",
       "      <td>LACORE Logistics</td>\n",
       "      <td>Logistics Business Analyst</td>\n",
       "      <td>Posted30+ days ago</td>\n",
       "      <td>Full-time</td>\n",
       "      <td>3-5 years of relevant experience in related fi...</td>\n",
       "      <td>NaN</td>\n",
       "      <td>Allen</td>\n",
       "      <td>TX+3 locations</td>\n",
       "    </tr>\n",
       "    <tr>\n",
       "      <th>356</th>\n",
       "      <td>Kelsan, Inc</td>\n",
       "      <td>newBusiness Analyst</td>\n",
       "      <td>Posted1 day ago</td>\n",
       "      <td>NaN</td>\n",
       "      <td>The Business Analyst positively impacts the co...</td>\n",
       "      <td>NaN</td>\n",
       "      <td>Knoxville</td>\n",
       "      <td>TN 37914</td>\n",
       "    </tr>\n",
       "    <tr>\n",
       "      <th>357</th>\n",
       "      <td>AutoZone</td>\n",
       "      <td>Real Estate Development Business Analyst</td>\n",
       "      <td>Posted12 days ago</td>\n",
       "      <td>NaN</td>\n",
       "      <td>Our Analysts perform high-level studies using ...</td>\n",
       "      <td>NaN</td>\n",
       "      <td>Brunswick</td>\n",
       "      <td>TN 38014+5 locations</td>\n",
       "    </tr>\n",
       "    <tr>\n",
       "      <th>358</th>\n",
       "      <td>DTE Energy</td>\n",
       "      <td>newData Analyst (Customer Service)</td>\n",
       "      <td>Posted1 day ago</td>\n",
       "      <td>NaN</td>\n",
       "      <td>Owns data cleansing and accuracy for various d...</td>\n",
       "      <td>NaN</td>\n",
       "      <td>Detroit</td>\n",
       "      <td>MI+1 location</td>\n",
       "    </tr>\n",
       "    <tr>\n",
       "      <th>359</th>\n",
       "      <td>Alpine Communications</td>\n",
       "      <td>newBilling Coordinator/Data Analyst</td>\n",
       "      <td>Posted5 days ago</td>\n",
       "      <td>Full-time</td>\n",
       "      <td>Review data for accuracy, researches and solve...</td>\n",
       "      <td>NaN</td>\n",
       "      <td>Elkader</td>\n",
       "      <td>IA 52043</td>\n",
       "    </tr>\n",
       "  </tbody>\n",
       "</table>\n",
       "<p>360 rows × 8 columns</p>\n",
       "</div>"
      ],
      "text/plain": [
       "                   company                                     title  \\\n",
       "0           Bobcat Company                      Data Science Analyst   \n",
       "1        Ascendo Resources                              Data Analyst   \n",
       "2                   Stafug                     Data/Business Analyst   \n",
       "3             Rohatech llc                    Data Analyst - Tableau   \n",
       "4                   Procom               Data Entry Analyst - 331923   \n",
       "..                     ...                                       ...   \n",
       "355       LACORE Logistics                Logistics Business Analyst   \n",
       "356            Kelsan, Inc                       newBusiness Analyst   \n",
       "357               AutoZone  Real Estate Development Business Analyst   \n",
       "358             DTE Energy        newData Analyst (Customer Service)   \n",
       "359  Alpine Communications       newBilling Coordinator/Data Analyst   \n",
       "\n",
       "        job posted date         job salary  \\\n",
       "0           PostedToday          Full-time   \n",
       "1     PostedJust posted      $75000 a year   \n",
       "2     PostedJust posted  $55 - $65 an hour   \n",
       "3     PostedJust posted       Full-time +1   \n",
       "4      Posted4 days ago           Contract   \n",
       "..                  ...                ...   \n",
       "355  Posted30+ days ago          Full-time   \n",
       "356     Posted1 day ago                NaN   \n",
       "357   Posted12 days ago                NaN   \n",
       "358     Posted1 day ago                NaN   \n",
       "359    Posted5 days ago          Full-time   \n",
       "\n",
       "                                               summary Experince Level  \\\n",
       "0    Data & statistical analysis: 1 year (Preferred...     Entry Level   \n",
       "1    Developing and maintaining databases, data sys...     Entry Level   \n",
       "2    In addition, you will provide insight to other...     Entry Level   \n",
       "3    12 Month Contract - Potential For Extension or...     Entry Level   \n",
       "4    Assist team members with procedural tasks such...     Entry Level   \n",
       "..                                                 ...             ...   \n",
       "355  3-5 years of relevant experience in related fi...             NaN   \n",
       "356  The Business Analyst positively impacts the co...             NaN   \n",
       "357  Our Analysts perform high-level studies using ...             NaN   \n",
       "358  Owns data cleansing and accuracy for various d...             NaN   \n",
       "359  Review data for accuracy, researches and solve...             NaN   \n",
       "\n",
       "                   City                  State  \n",
       "0            West Fargo               ND 58078  \n",
       "1    Remote+2 locations                    NaN  \n",
       "2    +2 locationsRemote                    NaN  \n",
       "3                Remote                    NaN  \n",
       "4             Getzville                     NY  \n",
       "..                  ...                    ...  \n",
       "355               Allen         TX+3 locations  \n",
       "356           Knoxville               TN 37914  \n",
       "357           Brunswick   TN 38014+5 locations  \n",
       "358             Detroit          MI+1 location  \n",
       "359             Elkader               IA 52043  \n",
       "\n",
       "[360 rows x 8 columns]"
      ]
     },
     "execution_count": 89,
     "metadata": {},
     "output_type": "execute_result"
    }
   ],
   "source": [
    "data_df = data_df.drop(columns=[\"Unnamed: 0\", \"Engineer\", \"Manager\", \"location\"])\n",
    "data_df\n"
   ]
  },
  {
   "cell_type": "code",
   "execution_count": null,
   "metadata": {},
   "outputs": [],
   "source": [
    "data_df['Experience Level'] = data_df['Experience Level'].str.replace('NaN', '')\n",
    "data_df.head()"
   ]
  },
  {
   "cell_type": "code",
   "execution_count": null,
   "metadata": {},
   "outputs": [],
   "source": [
    "data_df.dtypes"
   ]
  },
  {
   "cell_type": "code",
   "execution_count": null,
   "metadata": {},
   "outputs": [],
   "source": [
    "data_df['job salary'].value_counts()"
   ]
  },
  {
   "cell_type": "code",
   "execution_count": 90,
   "metadata": {},
   "outputs": [
    {
     "data": {
      "text/plain": [
       "Full-time                   74\n",
       "$60 - $65 an hour           14\n",
       "$55 - $65 an hour            7\n",
       "$25.29 an hour               7\n",
       "$22 - $26 an hour            7\n",
       "                            ..\n",
       "$100000 - $115000 a year     1\n",
       "$78000 - $115000 a year      1\n",
       "$110 - $120 an hour          1\n",
       "$35000 - $50000 a year       1\n",
       "$60000 - $110000 a year      1\n",
       "Name: job salary, Length: 118, dtype: int64"
      ]
     },
     "execution_count": 90,
     "metadata": {},
     "output_type": "execute_result"
    }
   ],
   "source": [
    "data_df['job salary'] = data_df['job salary'].replace({\"Full-time +1\" :'Full-time'})\n",
    "data_df['job salary'].value_counts()"
   ]
  },
  {
   "cell_type": "code",
   "execution_count": 91,
   "metadata": {},
   "outputs": [
    {
     "data": {
      "text/plain": [
       "Data Analyst                                   51\n",
       "Senior Data Analyst                            20\n",
       "newData Analyst                                15\n",
       "Junior Data Analyst                            11\n",
       "Data Analyst Supporting the FBI                11\n",
       "                                               ..\n",
       "Manufacturing and Supply Chain Data Analyst     1\n",
       "newCompliance Analyst Virtual Hiring Event      1\n",
       "Human Resources Analyst                         1\n",
       "Data Analyst I                                  1\n",
       "newBilling Coordinator/Data Analyst             1\n",
       "Name: title, Length: 170, dtype: int64"
      ]
     },
     "execution_count": 91,
     "metadata": {},
     "output_type": "execute_result"
    }
   ],
   "source": [
    "data_df['title'].value_counts()"
   ]
  },
  {
   "cell_type": "code",
   "execution_count": null,
   "metadata": {},
   "outputs": [],
   "source": [
    "data_df['title'] = data_df['title'].replace({\"newData Analyst\" :'Data Analyst'})\n",
    "data_df['title'] = data_df['title'].replace({'Data Analyst Supporting the FBI': 'Data Analyst'})\n",
    "data_df['title'] = data_df['title'].replace({'Data Analyst, U.S. Data Strategy - 331792': 'Data Analyst'})\n",
    "data_df['title'] = data_df['title'].replace({'newJr Marketplace Data Analyst': 'Data Analyst'})\n",
    "data_df['title'] = data_df['title'].replace({\"Data Analyst - Medicare\": 'Data Analyst'})\n",
    "data_df['title'] = data_df['title'].replace({\"newData Analyst Infomatica\": 'Informatica (ETL) Data Analyst'})\n",
    "data_df['title'] = data_df['title'].replace({\"newRemote Data Analyst\": 'Data Analyst'})\n",
    "data_df['title'] = data_df['title'].replace({\"newCustomer Service /Data Analyst\": 'Data Analyst'}) \n",
    "data_df['title'] = data_df['title'].replace({\"newData Quality Analyst - Remote, AZ\": 'Data Analyst'})\n",
    "data_df['title'] = data_df['title'].replace({\"Looking for Data Privacy Analyst\": 'Data Analyst'})\n",
    "data_df['title'] = data_df['title'].replace({\"newCybersecurity Analyst II (Remote)\": 'Data Analyst'})                                 \n",
    "data_df['title'] = data_df['title'].replace({\"Senior SAS/Python Data Analyst (Salary up to 160k)\": 'Senior Data Datalyst'}) \n",
    "data_df['title'].value_counts()"
   ]
  },
  {
   "cell_type": "code",
   "execution_count": null,
   "metadata": {},
   "outputs": [],
   "source": [
    "data_df['title'] = data_df['title'].replace({\"Sr. Data Analyst\": 'Senior Data Analyst'})\n",
    "data_df['title'] = data_df['title'].replace({\"Senior Data Analyst | Upto $70/hr\" : 'Senior Data Analyst'})\n",
    "data_df['title'] = data_df['title'].replace({'Remote Senior Data Informatics Analyst 1': 'Senior Data Analyst'})\n",
    "data_df['title'].value_counts()"
   ]
  },
  {
   "cell_type": "code",
   "execution_count": null,
   "metadata": {},
   "outputs": [],
   "source": [
    "data_df['title'] = data_df['title'].replace({\"newJr. Data Analyst\" :'Junior Data Analyst'})\n",
    "data_df['title'].value_counts()"
   ]
  },
  {
   "cell_type": "code",
   "execution_count": null,
   "metadata": {},
   "outputs": [],
   "source": [
    "data_df['title'] = data_df['title'].replace({\"Sr Business Analyst\": 'Senior Business Analyst'})\n",
    "data_df['title'] = data_df['title'].replace({\"Sr Business Analyst - Oakbrook\": 'Senior Business Analyst'})\n",
    "data_df['title'].value_counts()\n"
   ]
  },
  {
   "cell_type": "code",
   "execution_count": null,
   "metadata": {},
   "outputs": [],
   "source": [
    "data_df['title'] = data_df['title'].replace({'newCompliance Analyst Virtual Hiring Event': 'Compliance Analyst Virtual Hiring Event'})\n",
    "data_df['title'] = data_df['title'].replace({'newBilling Coordinator/Data Analyst': 'Billing Intelligence & Data Analyst'})\n",
    "data_df['title'].value_counts()"
   ]
  },
  {
   "cell_type": "code",
   "execution_count": null,
   "metadata": {},
   "outputs": [],
   "source": [
    "data_df['City'].value_counts()"
   ]
  },
  {
   "cell_type": "code",
   "execution_count": null,
   "metadata": {},
   "outputs": [],
   "source": [
    "data_df['City'] = data_df['City'].replace({\"+1 locationRemote\": 'Remote'})\n",
    "data_df['City'].value_counts()"
   ]
  },
  {
   "cell_type": "code",
   "execution_count": null,
   "metadata": {},
   "outputs": [],
   "source": [
    "data_df['City'] = data_df['City'].replace({\"Remote in San Francisco\": 'Remote'})\n",
    "data_df['City'] = data_df['City'].replace({\"Remote in Rancho Cordova\": 'Remote'})\n",
    "data_df['City'] = data_df['City'].replace({\"Remote in Portland\": 'Remote'})\n",
    "data_df['City'].value_counts()"
   ]
  },
  {
   "cell_type": "code",
   "execution_count": null,
   "metadata": {},
   "outputs": [],
   "source": [
    "jobs_type = data_df.groupby('Experience Level')\n",
    "\n",
    "count_jobs_types = jobs_type['Experience Level'].count()\n",
    "count_jobs_types"
   ]
  },
  {
   "cell_type": "code",
   "execution_count": null,
   "metadata": {},
   "outputs": [],
   "source": [
    "jobs = [49, 58, 86]\n",
    "x_axis = np.arange(len(jobs)) \n",
    "plt.bar(x_axis, jobs, color='r', alpha=0.5, align=\"center\")\n",
    "tick_locations = [value for value in x_axis]\n",
    "plt.xticks(tick_locations, [\"Entry Level\", \"Mid Level\", \"Senior Level\"])\n",
    "plt.title(\"Amount of Jobs per Level Experience\")\n",
    "plt.xlabel(\"Levels of Jobs\")\n",
    "plt.ylabel(\"Number of Jobs Filled\")\n",
    "plt.show()"
   ]
  },
  {
   "cell_type": "code",
   "execution_count": null,
   "metadata": {},
   "outputs": [],
   "source": [
    "levels = [\"Entry Level\", \"Mid Level\", \"Senior Level\"]\n",
    "filled = [49, 58, 86]\n",
    "colors = [\"red\", \"orange\", \"lightskyblue\"]\n",
    "explode = (0.1, 0, 0)"
   ]
  },
  {
   "cell_type": "code",
   "execution_count": 88,
   "metadata": {},
   "outputs": [
    {
     "data": {
      "application/vnd.jupyter.widget-view+json": {
       "model_id": "a3ceee8fdf3d4c80ae0fe8c088c4be6c",
       "version_major": 2,
       "version_minor": 0
      },
      "image/png": "[encoded data removed]",
      "text/html": [
       "\n",
       "            <div style=\"display: inline-block;\">\n",
       "                <div class=\"jupyter-widgets widget-label\" style=\"text-align: center;\">\n",
       "                    Figure\n",
       "                </div>\n",
       "                <img src='data:image/png;base64,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' width=640.0/>\n",
       "            </div>\n",
       "        "
      ],
      "text/plain": [
       "Canvas(toolbar=Toolbar(toolitems=[('Home', 'Reset original view', 'home', 'home'), ('Back', 'Back to previous …"
      ]
     },
     "metadata": {},
     "output_type": "display_data"
    }
   ],
   "source": [
    "plt.pie(filled, explode=explode, labels=levels, colors=colors, autopct=\"%1.0f%%\")\n",
    "plt.title(\"Level of Experience\")\n",
    "plt.axis(\"equal\")\n",
    "plt.show()"
   ]
  },
  {
   "cell_type": "code",
   "execution_count": null,
   "metadata": {},
   "outputs": [],
   "source": []
  },
  {
   "cell_type": "code",
   "execution_count": null,
   "metadata": {},
   "outputs": [],
   "source": []
  },
  {
   "cell_type": "code",
   "execution_count": null,
   "metadata": {},
   "outputs": [],
   "source": []
  }
 ],
 "metadata": {
  "kernelspec": {
   "display_name": "Python 3.9.12 ('base')",
   "language": "python",
   "name": "python3"
  },
  "language_info": {
   "codemirror_mode": {
    "name": "ipython",
    "version": 3
   },
   "file_extension": ".py",
   "mimetype": "text/x-python",
   "name": "python",
   "nbconvert_exporter": "python",
   "pygments_lexer": "ipython3",
   "version": "3.9.12"
  },
  "orig_nbformat": 4,
  "vscode": {
   "interpreter": {
    "hash": "1de373af0ba2f79583209aee8f385bbb898ceb07c14b2f7be78fee5a794f7f8a"
   }
  }
 },
 "nbformat": 4,
 "nbformat_minor": 2
}
